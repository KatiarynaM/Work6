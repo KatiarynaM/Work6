{
  "metadata": {
    "language_info": {
      "codemirror_mode": {
        "name": "python",
        "version": 3
      },
      "file_extension": ".py",
      "mimetype": "text/x-python",
      "name": "python",
      "nbconvert_exporter": "python",
      "pygments_lexer": "ipython3",
      "version": "3.8"
    },
    "kernelspec": {
      "name": "python",
      "display_name": "Python (Pyodide)",
      "language": "python"
    }
  },
  "nbformat_minor": 4,
  "nbformat": 4,
  "cells": [
    {
      "cell_type": "markdown",
      "source": "ДЗ 6. Сравнение долей. Построение доверительного интервала",
      "metadata": {}
    },
    {
      "cell_type": "markdown",
      "source": "Известно, что генеральная совокупность распределена нормально со средним квадратическим отклонением, равным 16. Найти доверительный интервал для оценки математического ожидания a с надежностью 0.95, если выборочная средняя M = 80, а объем выборки n = 256.",
      "metadata": {}
    },
    {
      "cell_type": "code",
      "source": "from scipy import stats\nimport numpy as np",
      "metadata": {
        "trusted": true
      },
      "execution_count": 5,
      "outputs": []
    },
    {
      "cell_type": "code",
      "source": "M = 80\nn = 256\nstd = 16\nz_table = stats.norm.ppf(0.975)\nprint(M - z_table * std / n ** 0.5, M + z_table * std / n ** 0.5)",
      "metadata": {
        "trusted": true
      },
      "execution_count": 3,
      "outputs": [
        {
          "name": "stdout",
          "text": "78.04003601545995 81.95996398454005\n",
          "output_type": "stream"
        }
      ]
    },
    {
      "cell_type": "markdown",
      "source": "(78,04 ; 81,96)",
      "metadata": {}
    },
    {
      "cell_type": "markdown",
      "source": "В результате 10 независимых измерений некоторой величины X, выполненных с одинаковой точностью, получены опытные данные: 6.9, 6.1, 6.2, 6.8, 7.5, 6.3, 6.4, 6.9, 6.7, 6.1 Предполагая, что результаты измерений подчинены нормальному закону распределения вероятностей, оценить истинное значение величины X при помощи доверительного интервала, покрывающего это значение с доверительной вероятностью 0,95. ",
      "metadata": {}
    },
    {
      "cell_type": "code",
      "source": "x = np.array([6.9, 6.1, 6.2, 6.8, 7.5, 6.3, 6.4, 6.9, 6.7, 6.1])\nx_m = np.mean(x)\nn = len(x)\nD = np.var(x, ddof = 1)\nt_table = stats.t.ppf(0.975, 9)\nprint(x_m - t_table * np.sqrt(D/n) , x_m + t_table * np.sqrt(D/n))",
      "metadata": {
        "trusted": true
      },
      "execution_count": 15,
      "outputs": [
        {
          "name": "stdout",
          "text": "6.267515851415713 6.912484148584288\n",
          "output_type": "stream"
        }
      ]
    },
    {
      "cell_type": "markdown",
      "source": "(6,268 ; 6,912)",
      "metadata": {}
    },
    {
      "cell_type": "markdown",
      "source": "3.Рост дочерей 175, 167, 154, 174, 178, 148, 160, 167, 169, 170 Рост матерей  178, 165, 165, 173, 168, 155, 160, 164, 178, 175 Используя эти данные построить 95% доверительный интервал для разности среднего роста родителей и детей.",
      "metadata": {}
    },
    {
      "cell_type": "code",
       "source": "X =  np.array([178, 165, 165, 173, 168, 155, 160, 164, 178, 175])\nY =  np.array([175, 167, 154, 174, 178, 148, 160, 167, 169, 170])\nX_m = np.mean(X)\nn1 = len(X)\nD1 = np.var(X, ddof = 1)\nY_m = np.mean(Y)\nn2 = len(Y)\nD2 = np.var(Y, ddof = 1)\ndelta = X_m - Y_m\nD = (D1 + D2) / 2\nSE = np.sqrt(D/n1 + D/n2)\nt_table = stats.t.ppf(0.975, 18)\nprint(delta - t_table *SE , delta + t_table * SE)",
"metadata": {
        "trusted": true
      },
      "execution_count": 16,
      "outputs": [
        {
          "name": "stdout",
          "text": "-6.268418034506846 10.068418034506857",
          "output_type": "stream"
        }
      ]
    },
    {
      "cell_type": "markdown",
      "source": "(-6.268418034506846 10.068418034506857)\nСтатистически значимых различий НЕТ",
      "metadata": {}
    }
  ]
}
